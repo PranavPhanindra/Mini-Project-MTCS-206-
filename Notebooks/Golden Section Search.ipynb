{
 "cells": [
  {
   "cell_type": "markdown",
   "metadata": {
    "id": "WuwZfrsumCJW"
   },
   "source": [
    "# Library Import"
   ]
  },
  {
   "cell_type": "code",
   "execution_count": 1,
   "metadata": {
    "id": "wUSX4thYmpic"
   },
   "outputs": [],
   "source": [
    "import numpy as np\n",
    "import pandas as pd\n",
    "import plotly.express as px"
   ]
  },
  {
   "cell_type": "markdown",
   "metadata": {
    "id": "gwdMArYXmHB_"
   },
   "source": [
    "# GSS"
   ]
  },
  {
   "cell_type": "code",
   "execution_count": 2,
   "metadata": {
    "id": "NGL5FJPPl8v3"
   },
   "outputs": [],
   "source": [
    "def goldenSectionSearch(func, a, b, tol=1e-5, max_iterations=50):\n",
    "    phi = (1 + np.sqrt(5)) / 2  # Golden ratio\n",
    "\n",
    "    iter = []\n",
    "    aArray = []\n",
    "    bArray = []\n",
    "    x1Array = []\n",
    "    x2Array = []\n",
    "    f_x1Array = []\n",
    "    f_x2Array = []\n",
    "    y_0 = []\n",
    "\n",
    "    color_1 = []\n",
    "    color_2 = []\n",
    "\n",
    "\n",
    "\n",
    "    for iteration in range(max_iterations):\n",
    "        x1 = b - (b - a) / phi\n",
    "        x2 = a + (b - a) / phi\n",
    "\n",
    "        f_x1 = func(x1)\n",
    "        f_x2 = func(x2)\n",
    "\n",
    "        iter.append(iteration + 1)\n",
    "        aArray.append(a)\n",
    "        bArray.append(b)\n",
    "        x1Array.append(x1)\n",
    "        x2Array.append(x2)\n",
    "        f_x1Array.append(f_x1)\n",
    "        f_x2Array.append(f_x2)\n",
    "        y_0.append(0)\n",
    "\n",
    "        if f_x1 < f_x2:\n",
    "            b = x2\n",
    "        else:\n",
    "            a = x1\n",
    "\n",
    "        if abs(b - a) < tol:\n",
    "            break\n",
    "\n",
    "    color_1.extend(['[f(a),f(b)]']*len(x1Array))\n",
    "    color_2.extend(['[a,b]']*len(x1Array))\n",
    "\n",
    "    return pd.DataFrame(\n",
    "        {\n",
    "            'x': np.concatenate([x1Array, x2Array,x1Array, x2Array]),\n",
    "            'y': np.concatenate([f_x1Array,f_x2Array,y_0,y_0]),\n",
    "            'Iter': np.tile(np.arange(len(x1Array)), 4),\n",
    "            'color' : np.concatenate([color_1,color_1,color_2,color_2])\n",
    "\n",
    "        }\n",
    "    )"
   ]
  },
  {
   "cell_type": "markdown",
   "metadata": {
    "id": "lco-8kKfnC6I"
   },
   "source": [
    "# Defining function and performing GSS\n",
    "Give a unimodal function"
   ]
  },
  {
   "cell_type": "code",
   "execution_count": 3,
   "metadata": {
    "id": "vziq-auxmAOU"
   },
   "outputs": [],
   "source": [
    "def myFunc(x):\n",
    "  return x**4 - 14*(x)**3+ 60*x**2 - 70*x"
   ]
  },
  {
   "cell_type": "code",
   "execution_count": 4,
   "metadata": {
    "id": "uApi87mxmyZr"
   },
   "outputs": [],
   "source": [
    "a = -2\n",
    "b = 2\n",
    "iterations = 50\n",
    "error = 1e-2\n",
    "df = goldenSectionSearch(myFunc,a,b,error,iterations)\n"
   ]
  },
  {
   "cell_type": "markdown",
   "metadata": {
    "id": "1wKmaBJSmYsu"
   },
   "source": [
    "# Animation"
   ]
  },
  {
   "cell_type": "code",
   "execution_count": 5,
   "metadata": {
    "colab": {
     "base_uri": "https://localhost:8080/",
     "height": 817
    },
    "id": "K-HWoCiFwtN2",
    "outputId": "c190f4c2-fa2a-4e1c-9dcb-fc398ba09b63"
   },
   "outputs": [],
   "source": [
    "x = np.linspace(a,b)\n",
    "y = myFunc(x)\n",
    "\n",
    "fig = px.scatter(df,\n",
    "                 x='x',\n",
    "                 y='y', animation_frame='Iter',\n",
    "                 range_x=[a-2,b+2],\n",
    "                 range_y=[min(y),max(y)],\n",
    "                 color='color',\n",
    "                 labels={'Iter': 'Iteration'},\n",
    "                 hover_name='Iter',\n",
    "                 hover_data={'x': True,\n",
    "                             'y': True,\n",
    "                             'color':False,\n",
    "                             'Iter':False})\n",
    "\n",
    "fig.update_traces(marker=dict(symbol='circle-open-dot',\n",
    "                              size=20,\n",
    "                              opacity=0.7),\n",
    "                  selector=dict(mode='markers'),\n",
    "                  overwrite=True)\n",
    "\n",
    "\n",
    "# Plot the function myFuncCurve with a custom color\n",
    "myFuncCurve = px.line(x=x, y=y).data[0]\n",
    "myFuncCurve.line.color = 'white'\n",
    "fig.add_trace(myFuncCurve)\n",
    "\n",
    "\n",
    "fig.update_layout(title='Golden Section Search',\n",
    "                  xaxis_title='X',\n",
    "                  yaxis_title='Y',\n",
    "                  template='plotly_dark')\n",
    "\n",
    "\n",
    "fig.update_layout(\n",
    "    legend=dict(\n",
    "        title=\"Legend\"\n",
    "    )\n",
    ")\n",
    "\n",
    "fig.update_layout(\n",
    "    width=800,  # Specify width in pixels\n",
    "    height=800,  # Specify height in pixels\n",
    ")\n",
    "\n"
   ]
  },
  {
   "cell_type": "code",
   "execution_count": 6,
   "metadata": {
    "id": "ra1pEb5TjH8R"
   },
   "outputs": [],
   "source": [
    "fig.write_html(\"GSS.html\")"
   ]
  },
  {
   "cell_type": "code",
   "execution_count": null,
   "metadata": {},
   "outputs": [],
   "source": []
  }
 ],
 "metadata": {
  "colab": {
   "provenance": []
  },
  "kernelspec": {
   "display_name": "Python 3 (ipykernel)",
   "language": "python",
   "name": "python3"
  },
  "language_info": {
   "codemirror_mode": {
    "name": "ipython",
    "version": 3
   },
   "file_extension": ".py",
   "mimetype": "text/x-python",
   "name": "python",
   "nbconvert_exporter": "python",
   "pygments_lexer": "ipython3",
   "version": "3.9.18"
  }
 },
 "nbformat": 4,
 "nbformat_minor": 1
}
