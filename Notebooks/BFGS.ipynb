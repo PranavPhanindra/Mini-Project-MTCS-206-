{
 "cells": [
  {
   "cell_type": "markdown",
   "id": "ca4d4c30",
   "metadata": {},
   "source": [
    "# Import"
   ]
  },
  {
   "cell_type": "code",
   "execution_count": null,
   "id": "b164936b",
   "metadata": {},
   "outputs": [],
   "source": [
    "!pip install autograd"
   ]
  },
  {
   "cell_type": "code",
   "execution_count": null,
   "id": "1b37249a",
   "metadata": {},
   "outputs": [],
   "source": [
    "import matplotlib.pyplot as plt\n",
    "import numpy as np\n",
    "import autograd.numpy as au\n",
    "import scipy\n",
    "\n",
    "from scipy.optimize import line_search\n",
    "from autograd import grad, jacobian\n",
    "from scipy.optimize import minimize\n",
    "\n",
    "from plotly.subplots import make_subplots\n",
    "import plotly.graph_objects as go"
   ]
  },
  {
   "cell_type": "code",
   "execution_count": null,
   "id": "aa678cd7",
   "metadata": {},
   "outputs": [],
   "source": [
    "NORM = np.linalg.norm"
   ]
  },
  {
   "cell_type": "markdown",
   "id": "e5bb0a36",
   "metadata": {},
   "source": [
    "# Function Definition"
   ]
  },
  {
   "cell_type": "code",
   "execution_count": null,
   "id": "e61db3f6",
   "metadata": {},
   "outputs": [],
   "source": [
    "def func(x): \n",
    "    # Objective function (Branin function)\n",
    "    return (x[1] - (5.1/(4*au.pi**2))*x[0]**2 + (5/au.pi)*x[0] - 6)**2 + 10*(1 - 1/(8*au.pi))*au.cos(x[0]) + 10\n",
    "    \n",
    "\n",
    " # Gradient of the objective function\n",
    "Df = grad(func)"
   ]
  },
  {
   "cell_type": "code",
   "execution_count": null,
   "id": "40bd831b",
   "metadata": {},
   "outputs": [],
   "source": [
    "# Create a grid of x0 and x1 values\n",
    "x0 = np.linspace(-5, 16, 100)\n",
    "x1 = np.linspace(-5, 16, 100)\n",
    "X0, X1 = np.meshgrid(x0, x1)\n",
    "Z = func([X0, X1])"
   ]
  },
  {
   "cell_type": "code",
   "execution_count": null,
   "id": "3d1299a2",
   "metadata": {},
   "outputs": [],
   "source": [
    "contours=plt.contour(x0,\n",
    "                     x1,\n",
    "                     Z,\n",
    "                     100,\n",
    "                     cmap=plt.cm.gnuplot)\n",
    "\n",
    "plt.clabel(contours,\n",
    "           inline=1,\n",
    "           fontsize=10)\n",
    "\n",
    "plt.xlabel(\"$x_1$ ->\")\n",
    "plt.ylabel(\"$x_2$ ->\")\n",
    "\n",
    "plt.show()"
   ]
  },
  {
   "cell_type": "markdown",
   "id": "d532f449",
   "metadata": {},
   "source": [
    "# BFGS"
   ]
  },
  {
   "cell_type": "code",
   "execution_count": null,
   "id": "f3ffc2d7",
   "metadata": {},
   "outputs": [],
   "source": [
    "def BFGS(Xj, tol, alpha_1, alpha_2):\n",
    "    x_history = [Xj.copy()]  # List to store the history of point updates\n",
    "    Bf = np.eye(len(Xj))\n",
    "    \n",
    "    while True:\n",
    "        Grad = Df(Xj)\n",
    "        \n",
    "        # Selection of the direction of the steepest descent\n",
    "        delta = -Bf.dot(Grad) \n",
    "                \n",
    "        start_point = Xj  # Start point for step length selection \n",
    "        \n",
    "        alpha = line_search(f=func, myfprime=Df, xk=start_point, pk=delta, c1=alpha_1, c2=alpha_2)[0]  # Selecting the step length\n",
    "        \n",
    "        if alpha is not None:\n",
    "            X = Xj + alpha * delta\n",
    "        \n",
    "        if np.linalg.norm(Df(X)) < tol:\n",
    "            x_history.append(X.copy())\n",
    "            return np.array(x_history)\n",
    "        \n",
    "        else:\n",
    "            Dj = X - Xj\n",
    "            Gj = Df(X) - Grad\n",
    "            \n",
    "            den = Dj.dot(Gj)\n",
    "            num = Bf.dot(Gj)\n",
    "            \n",
    "            L = 1 + num.dot(Gj) / den\n",
    "            M = np.outer(Dj, Dj) / den\n",
    "            N = np.outer(Dj, num) / den\n",
    "            O = np.outer(num, Dj) / den\n",
    "            \n",
    "            Delta = L * M - N - O\n",
    "            Bf += Delta\n",
    "            Xj = X  # Update to the new iterate\n",
    "            x_history.append(X.copy())\n",
    "    \n",
    "    return np.array(x_history)\n"
   ]
  },
  {
   "cell_type": "code",
   "execution_count": null,
   "id": "e1397616",
   "metadata": {},
   "outputs": [],
   "source": [
    "history = BFGS(np.array([1.5, 7.75]), 10**-5, 10**-4, 0.25)\n",
    "history"
   ]
  },
  {
   "cell_type": "code",
   "execution_count": null,
   "id": "bf7a7744",
   "metadata": {},
   "outputs": [],
   "source": [
    "# Create a 3D surface plot\n",
    "startContours = -5\n",
    "endContours = 100\n",
    "sizeContours = 5\n",
    "\n",
    "\n",
    "fig = go.Figure(data=[go.Scatter3d(x=history[:, 0],\n",
    "                                   y=history[:, 1],\n",
    "                                   z=func(history),\n",
    "                                   mode='lines+markers',\n",
    "                                   marker = dict(symbol = 'circle',\n",
    "                                                 color = 'red',\n",
    "                                                 size = 5))])\n",
    "\n",
    "\n",
    "\n",
    "fig.add_trace(go.Surface(x=X0,\n",
    "                         y=X1,\n",
    "                         z=Z,\n",
    "                         showscale=False,\n",
    "                         contours=dict(z=dict(color = \"limegreen\",\n",
    "                                              highlight = True,\n",
    "                                              show = True,\n",
    "                                               project=dict(x=True,\n",
    "                                                           y=True,\n",
    "                                                           z=False),\n",
    "                                              size = sizeContours,\n",
    "                                              start = startContours,\n",
    "                                              end = endContours))))\n",
    "\n",
    "fig.update_layout(\n",
    "    autosize=False,\n",
    "    width=1000,\n",
    "    height=1000,\n",
    "    margin=dict(l=50, r=50, b=100, t=100, pad=4),\n",
    "    scene=dict(\n",
    "        xaxis_title=\"X Axis\",  # Set X-axis title\n",
    "        yaxis_title=\"Y Axis\",  # Set Y-axis title\n",
    "        zaxis_title=\"Z Axis\",  # Set Z-axis title\n",
    "    ),\n",
    "    showlegend =False,\n",
    "    template=\"plotly_dark\"\n",
    ")\n",
    "\n",
    "\n",
    "\n",
    "fig.show()"
   ]
  },
  {
   "cell_type": "code",
   "execution_count": null,
   "id": "2376c42f",
   "metadata": {},
   "outputs": [],
   "source": [
    "def func(x, y):\n",
    "    # Objective function (Branin function)\n",
    "    return (y - (5.1 / (4 * au.pi**2)) * x**2 + (5 / au.pi) * x - 6)**2 + 10 * (1 - 1 / (8 * au.pi)) * au.cos(x) + 10"
   ]
  },
  {
   "cell_type": "markdown",
   "id": "6e7f49b1",
   "metadata": {},
   "source": [
    "# Animation"
   ]
  },
  {
   "cell_type": "code",
   "execution_count": null,
   "id": "d8858059",
   "metadata": {},
   "outputs": [],
   "source": [
    "# Initialize figure with subplots\n",
    "fig = make_subplots(rows=1, cols=1, specs=[[{'type': 'surface'}]])\n",
    "\n",
    "# Create a 3D surface plot with contours\n",
    "fig.add_trace(go.Surface(x=X0, y=X1, z=Z, showscale=False,\n",
    "                         contours=dict(z=dict(color=\"limegreen\",\n",
    "                                              show=True,\n",
    "                                              highlight=True,\n",
    "                                              project=dict(x=True, y=True,z=True),\n",
    "                                              size=sizeContours,\n",
    "                                              start=startContours, \n",
    "                                              end=endContours))),\n",
    "              row=1, col=1)\n",
    "\n",
    "\n",
    "# Initialize scatter plot data\n",
    "# Add scatter plot trace to the figure\n",
    "scatter_data = go.Scatter3d(x=[], y=[], z=[], mode='lines+markers', marker=dict(symbol='x', color='red'))\n",
    "fig.add_trace(scatter_data, row=1, col=1)\n",
    "\n",
    "# Define animation frames\n",
    "frames = []\n",
    "for i in range(len(history)):\n",
    "    print(\"Frame-{}\".format(i))\n",
    "    frame_data = [go.Surface(x=X0,\n",
    "                   y=X1,\n",
    "                   z=Z,\n",
    "                   contours=dict(z=dict(color=\"limegreen\",\n",
    "                                        show=True,\n",
    "                                        highlight=True,\n",
    "                                        project=dict(x=True, y=True,z=True),\n",
    "                                        size=sizeContours, \n",
    "                                        start=startContours, \n",
    "                                        end=endContours))),# Include the surface in each frame\n",
    "                  go.Scatter3d(x=history[:i, 0],\n",
    "                     y=history[:i, 1],\n",
    "                     z=func(history[:i, 0],history[:i, 1]),\n",
    "                     mode='lines+markers',\n",
    "                     marker = dict(symbol = 'circle',\n",
    "                                   color = 'white',\n",
    "                                   size = 5))]\n",
    "\n",
    "    frame = go.Frame(data=frame_data, name=f'Frame {i}')\n",
    "    frames.append(frame)\n",
    "\n",
    "# Add frames to the animation\n",
    "fig.frames = frames\n",
    "\n",
    "# Create animation buttons\n",
    "animation_buttons = [\n",
    "    dict(label=\"Play\",\n",
    "         method=\"animate\",\n",
    "         args=[None, {\"frame\": {\"duration\": 500, \"redraw\": True}, \"fromcurrent\": True}]),\n",
    "    dict(label=\"Pause\",\n",
    "         method=\"animate\",\n",
    "         args=[[None], {\"frame\": {\"duration\": 0, \"redraw\": True}, \"mode\": \"immediate\", \"transition\": {\"duration\": 0}}])\n",
    "]\n",
    "\n",
    "# Update layout with animation settings\n",
    "fig.update_layout(updatemenus=[{\"buttons\": animation_buttons, \"type\": \"buttons\", \"showactive\": False}],\n",
    "                  title=\"BFGS Animation\")\n",
    "\n",
    "\n",
    "fig.update_layout(\n",
    "    autosize=False,\n",
    "    width=1000,\n",
    "    height=1000,\n",
    "    margin=dict(l=50, r=50, b=100, t=100, pad=4),\n",
    "    scene=dict(\n",
    "        xaxis_title=\"X Axis\",  # Set X-axis title\n",
    "        yaxis_title=\"Y Axis\",  # Set Y-axis title\n",
    "        zaxis_title=\"Z Axis\",  # Set Z-axis title\n",
    "    ),\n",
    "    showlegend =False,\n",
    "    template = \"plotly_dark\"\n",
    ")\n",
    "\n",
    "# Show the figure\n",
    "fig.show()\n"
   ]
  },
  {
   "cell_type": "markdown",
   "id": "befe9128",
   "metadata": {},
   "source": [
    "# Contours"
   ]
  },
  {
   "cell_type": "code",
   "execution_count": null,
   "id": "01658023",
   "metadata": {},
   "outputs": [],
   "source": [
    "fig = go.Figure(data =\n",
    "         go.Contour(\n",
    "           z= Z,\n",
    "           colorbar=dict(nticks=10, \n",
    "                         ticks='outside',\n",
    "                         ticklen=5, \n",
    "                         tickwidth=1,\n",
    "                         showticklabels=True,\n",
    "                         tickangle=0, \n",
    "                         tickfont_size=12)\n",
    "            ))\n",
    "\n",
    "fig.add_trace(go.Scatter(x=history[:, 0], \n",
    "                         y=history[:, 1], \n",
    "                         mode='markers+lines', \n",
    "                         name='BFGS',\n",
    "                         marker=dict(color='white')))\n",
    "\n",
    "# Update layout to increase size\n",
    "fig.update_layout(\n",
    "    width=1000,  # Set the width of the figure\n",
    "    height=1000,  # Set the height of the figure\n",
    "    title='Contour Plot',  # Add a title to the plot\n",
    "    xaxis_title=\"X Axis\",  # Label the x-axis\n",
    "    yaxis_title=\"Y Axis\",  # Label the y-axis\n",
    "    template=\"plotly_dark\"  # Use a dark theme for the plot\n",
    ")\n",
    "\n",
    "\n",
    "fig.show()"
   ]
  },
  {
   "cell_type": "code",
   "execution_count": null,
   "id": "3e6cd4e2",
   "metadata": {},
   "outputs": [],
   "source": [
    "def func(x): # Objective function\n",
    "    return (x[1] - (5.1/(4*au.pi**2))*x[0]**2 + (5/au.pi)*x[0] - 6)**2 + 10*(1 - 1/(8*au.pi))*au.cos(x[0]) + 10\n",
    "\n",
    "Df = grad(func) # Gradient of the objective function\n",
    "\n",
    "res=minimize(fun=func,\n",
    "             x0=np.array([1.5, 7.75]), \n",
    "             jac=Df, \n",
    "             method='BFGS',\n",
    "             options={'gtol':10**-5,\n",
    "                      'disp':True, \n",
    "                      'return_all':True})"
   ]
  },
  {
   "cell_type": "code",
   "execution_count": null,
   "id": "095f1181",
   "metadata": {},
   "outputs": [],
   "source": [
    "res.allvecs"
   ]
  },
  {
   "cell_type": "code",
   "execution_count": null,
   "id": "5f107867",
   "metadata": {},
   "outputs": [],
   "source": [
    "history"
   ]
  },
  {
   "cell_type": "code",
   "execution_count": null,
   "id": "e9b01cd1",
   "metadata": {},
   "outputs": [],
   "source": []
  }
 ],
 "metadata": {
  "kernelspec": {
   "display_name": "Python 3 (ipykernel)",
   "language": "python",
   "name": "python3"
  },
  "language_info": {
   "codemirror_mode": {
    "name": "ipython",
    "version": 3
   },
   "file_extension": ".py",
   "mimetype": "text/x-python",
   "name": "python",
   "nbconvert_exporter": "python",
   "pygments_lexer": "ipython3",
   "version": "3.9.18"
  }
 },
 "nbformat": 4,
 "nbformat_minor": 5
}
