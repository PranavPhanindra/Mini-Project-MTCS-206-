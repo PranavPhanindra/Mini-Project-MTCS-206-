{
 "cells": [
  {
   "cell_type": "markdown",
   "metadata": {
    "id": "ICXEtnLZ2Vuk"
   },
   "source": [
    "# Library Imports"
   ]
  },
  {
   "cell_type": "code",
   "execution_count": 1,
   "metadata": {
    "id": "nmitGDLv2C3f"
   },
   "outputs": [],
   "source": [
    "import numpy as np\n",
    "import pandas as pd\n",
    "import plotly.express as px"
   ]
  },
  {
   "cell_type": "markdown",
   "metadata": {
    "id": "FnTxwR0r2Z2M"
   },
   "source": [
    "# Bisection Method"
   ]
  },
  {
   "cell_type": "code",
   "execution_count": 2,
   "metadata": {
    "id": "Kdn_LpW92cyz"
   },
   "outputs": [],
   "source": [
    "def bisection_method(func, a, b, tol=1e-5, max_iterations=50):\n",
    "    iter = []\n",
    "\n",
    "    aArray = []\n",
    "    bArray = []\n",
    "    xArray = []\n",
    "\n",
    "    f_xArray = []\n",
    "    f_aArray = []\n",
    "    f_bArray = []\n",
    "\n",
    "    color_1 = []\n",
    "    color_2 = []\n",
    "    color_3 = []\n",
    "    color_4 = []\n",
    "\n",
    "    y_0 = []\n",
    "\n",
    "    for iteration in range(max_iterations):\n",
    "        x = (a + b) / 2\n",
    "        f_x = func(x)\n",
    "\n",
    "        f_aArray.append(func(a))\n",
    "        f_bArray.append(func(b))\n",
    "        f_xArray.append(f_x)\n",
    "\n",
    "        iter.append(iteration + 1)\n",
    "\n",
    "        aArray.append(a)\n",
    "        bArray.append(b)\n",
    "        xArray.append(x)\n",
    "\n",
    "\n",
    "\n",
    "        if f_x == 0 or abs(b - a) / 2 < tol:\n",
    "            break\n",
    "        elif func(a) * f_x < 0:\n",
    "            b = x\n",
    "        else:\n",
    "            a = x\n",
    "\n",
    "    color_1.extend(['f(a) & f(b)']*len(aArray))\n",
    "    color_2.extend(['f(a+b)/2']*len(aArray))\n",
    "    color_3.extend(['[a,b]']*len(aArray))\n",
    "    color_4.extend(['(a+b)/2']*len(aArray))\n",
    "\n",
    "\n",
    "    y_0.extend([0]*len(aArray))\n",
    "\n",
    "\n",
    "\n",
    "\n",
    "    return pd.DataFrame(\n",
    "        {\n",
    "            'x': np.concatenate([aArray,bArray,xArray,aArray,bArray,xArray]),\n",
    "            'y': np.concatenate([f_aArray,f_bArray,f_xArray,y_0,y_0,y_0]),\n",
    "            'Iter': np.tile(np.arange(len(aArray)), 6),\n",
    "            'color' : np.concatenate([color_1,color_1,color_2,color_3,color_3,color_4])\n",
    "        }\n",
    "      )"
   ]
  },
  {
   "cell_type": "markdown",
   "metadata": {
    "id": "bWEL-zLW2eNl"
   },
   "source": [
    "# Define Functions & Bisection Search"
   ]
  },
  {
   "cell_type": "code",
   "execution_count": 3,
   "metadata": {
    "id": "LNN3vTnG_8r7"
   },
   "outputs": [],
   "source": [
    "# Define your function here\n",
    "def myFunc(x):\n",
    "    return (x-2)**3\n",
    "\n",
    "# Set initial bounds for bisection method\n",
    "a = 0.9\n",
    "b = 3\n",
    "\n",
    "# Perform bisection method and store results in a DataFrame\n",
    "df = bisection_method(myFunc, a, b)"
   ]
  },
  {
   "cell_type": "markdown",
   "metadata": {
    "id": "cV8qoTXH2jxL"
   },
   "source": [
    "# Bisection Search Animation"
   ]
  },
  {
   "cell_type": "code",
   "execution_count": 4,
   "metadata": {
    "colab": {
     "base_uri": "https://localhost:8080/",
     "height": 817
    },
    "id": "D85jN7aql2bs",
    "outputId": "5d165ca0-7656-4e7c-9e29-8a3e13d984cb"
   },
   "outputs": [],
   "source": [
    "x = np.linspace(a,b,100)\n",
    "y = myFunc(x)\n",
    "\n",
    "fig = px.scatter(df,\n",
    "                 x='x',\n",
    "                 y='y', animation_frame='Iter',\n",
    "                 range_x=[a-2,b+2],\n",
    "                 range_y=[min(y),max(y)],\n",
    "                 color='color',\n",
    "                 labels={'Iter': 'Iteration'},\n",
    "                 hover_name='Iter',\n",
    "                #symbol = 'color',\n",
    "                 hover_data={'x': True,\n",
    "                             'y': True,\n",
    "                             'color':False,\n",
    "                             'Iter':False})\n",
    "\n",
    "fig.update_traces(marker=dict(symbol='circle-open-dot',\n",
    "                              size=20,\n",
    "                              opacity=0.7),\n",
    "                  selector=dict(mode='markers'),\n",
    "                  overwrite=True)\n",
    "\n",
    "\n",
    "# Plot the function myFuncCurve with a custom color\n",
    "myFuncCurve = px.line(x=x, y=y).data[0]\n",
    "myFuncCurve.line.color = 'white'\n",
    "fig.add_trace(myFuncCurve)\n",
    "\n",
    "\n",
    "fig.update_layout(title='Bisection Method',\n",
    "                  xaxis_title='X',\n",
    "                  yaxis_title='Y',\n",
    "                  template='plotly_dark')\n",
    "\n",
    "fig.update_layout(\n",
    "    width=800,  # Specify width in pixels\n",
    "    height=800,  # Specify height in pixels\n",
    ")\n",
    "\n",
    "\n",
    "fig.update_layout(\n",
    "    legend=dict(\n",
    "        title=\"Legend\"\n",
    "    )\n",
    ")\n",
    "\n",
    "fig.show()\n"
   ]
  },
  {
   "cell_type": "code",
   "execution_count": 5,
   "metadata": {},
   "outputs": [],
   "source": [
    "fig.write_html(\"BM.html\")"
   ]
  },
  {
   "cell_type": "code",
   "execution_count": null,
   "metadata": {},
   "outputs": [],
   "source": []
  }
 ],
 "metadata": {
  "colab": {
   "provenance": []
  },
  "kernelspec": {
   "display_name": "Python 3 (ipykernel)",
   "language": "python",
   "name": "python3"
  },
  "language_info": {
   "codemirror_mode": {
    "name": "ipython",
    "version": 3
   },
   "file_extension": ".py",
   "mimetype": "text/x-python",
   "name": "python",
   "nbconvert_exporter": "python",
   "pygments_lexer": "ipython3",
   "version": "3.9.18"
  }
 },
 "nbformat": 4,
 "nbformat_minor": 1
}
