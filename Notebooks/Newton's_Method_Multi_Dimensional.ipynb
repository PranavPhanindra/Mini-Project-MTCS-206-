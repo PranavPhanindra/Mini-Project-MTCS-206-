{
 "cells": [
  {
   "cell_type": "markdown",
   "metadata": {
    "id": "AGAzF6RCr15l"
   },
   "source": [
    "# Imports"
   ]
  },
  {
   "cell_type": "code",
   "execution_count": null,
   "metadata": {
    "id": "Imb4moLmr2d9"
   },
   "outputs": [],
   "source": [
    "import numpy as np\n",
    "import matplotlib.pyplot as plt\n",
    "import plotly.graph_objects as go\n",
    "\n",
    "from plotly.subplots import make_subplots\n",
    "from sympy import symbols, diff, lambdify"
   ]
  },
  {
   "cell_type": "markdown",
   "metadata": {
    "id": "fkGBLq8JEX_T"
   },
   "source": [
    "# Newton's Method Multivariate"
   ]
  },
  {
   "cell_type": "code",
   "execution_count": null,
   "metadata": {
    "id": "-Yf4micYDt87"
   },
   "outputs": [],
   "source": [
    "def newton_multi_var(grad_F, H, x_init):\n",
    "    x_history = []  # List to store the history of point updates\n",
    "    x = x_init\n",
    "    while True:\n",
    "        H_inv = np.linalg.inv(np.float64(H(x)))\n",
    "        x_move = np.dot(H_inv, np.float64(grad_F(x)))\n",
    "        x = x - x_move\n",
    "        x_history.append(x.copy())  # Record the updated point\n",
    "        if np.linalg.norm(x_move) < 1e-8:\n",
    "            break\n",
    "\n",
    "    return x, np.array(x_history)"
   ]
  },
  {
   "cell_type": "markdown",
   "metadata": {
    "id": "S6Sfb6L8ETcn"
   },
   "source": [
    "# Define Function"
   ]
  },
  {
   "cell_type": "code",
   "execution_count": null,
   "metadata": {
    "id": "ABbC4cAiESBJ"
   },
   "outputs": [],
   "source": [
    "x_init = np.array([3, 2])\n",
    "x, y = symbols(\"x y\")\n",
    "#f = x**3 + y**3 - 9 * x * y + 27\n",
    "a = 1\n",
    "b = 100\n",
    "f = (a - x)**2 + b * (y - x**2)**2"
   ]
  },
  {
   "cell_type": "code",
   "execution_count": null,
   "metadata": {
    "id": "dGr02z7BEkWN"
   },
   "outputs": [],
   "source": [
    "#Calculate Gradients\n",
    "grad_x = f.diff(x)\n",
    "grad_y = f.diff(y)\n",
    "calculate_grad_f = lambda val: np.array(\n",
    "    [\n",
    "        grad_x.subs([(x, val[0]), (y, val[1])]),\n",
    "        grad_y.subs([(x, val[0]), (y, val[1])]),\n",
    "    ]\n",
    ")\n",
    "\n",
    "#Calculate Hessian\n",
    "H = lambda val: np.array(\n",
    "    [\n",
    "        [f.diff(x, x).subs([(x, val[0]), (y, val[1])]),f.diff(x, y).subs([(x, val[0]), (y, val[1])])],\n",
    "        [f.diff(x, y).subs([(x, val[0]), (y, val[1])]),f.diff(y, y).subs([(x, val[0]), (y, val[1])])]\n",
    "    ]\n",
    ")"
   ]
  },
  {
   "cell_type": "markdown",
   "metadata": {
    "id": "swOAuHTAE67z"
   },
   "source": [
    "# Apply Newtons Method"
   ]
  },
  {
   "cell_type": "code",
   "execution_count": null,
   "metadata": {
    "colab": {
     "base_uri": "https://localhost:8080/"
    },
    "id": "D_pm0-vQE7xS",
    "outputId": "72b4c392-9dc5-48c1-902c-620c8705befc"
   },
   "outputs": [],
   "source": [
    "local_min ,  history  = newton_multi_var(calculate_grad_f, H,x_init)\n",
    "round_local_min_pos = np.array([round(local_min[0], 3), round(local_min[1], 3)])\n",
    "print(\"Local min: ({0},{1})\".format(round_local_min_pos[0], round_local_min_pos[1]))"
   ]
  },
  {
   "cell_type": "code",
   "execution_count": null,
   "metadata": {},
   "outputs": [],
   "source": [
    "history"
   ]
  },
  {
   "cell_type": "markdown",
   "metadata": {
    "id": "dO3uH25kFC_L"
   },
   "source": [
    "# Visaulise"
   ]
  },
  {
   "cell_type": "code",
   "execution_count": null,
   "metadata": {},
   "outputs": [],
   "source": [
    "\"\"\"# Redefine the function not as lambda function\n",
    "def f(x, y):\n",
    "    return x**3 + y**3 - 9 * x * y + 27\"\"\""
   ]
  },
  {
   "cell_type": "code",
   "execution_count": null,
   "metadata": {},
   "outputs": [],
   "source": [
    "def f(x, y, a=1, b=100):\n",
    "    return (a - x)**2 + b * (y - x**2)**2"
   ]
  },
  {
   "cell_type": "code",
   "execution_count": null,
   "metadata": {
    "id": "f7vBUIHZFCaM"
   },
   "outputs": [],
   "source": [
    "#f = lambda val: val[0] ** 3 + val[1] ** 3 - 9 * val[0] * val[1] + 27\n",
    "#f = lambda x, y: (1 - x)**2 + 100 * (y - x**2)**2\n",
    "x = np.linspace(-6, 6, 30)\n",
    "y = np.linspace(-6, 6, 30)"
   ]
  },
  {
   "cell_type": "code",
   "execution_count": null,
   "metadata": {
    "id": "-93j2-erFHqS"
   },
   "outputs": [],
   "source": [
    "X, Y = np.meshgrid(x, y)\n",
    "Z = f(X,Y)"
   ]
  },
  {
   "cell_type": "code",
   "execution_count": null,
   "metadata": {
    "colab": {
     "base_uri": "https://localhost:8080/",
     "height": 438
    },
    "id": "TPmFou6prth1",
    "outputId": "df1d96d6-9d00-4fed-a660-8d02732f6641"
   },
   "outputs": [],
   "source": [
    "ax = plt.axes(projection=\"3d\")\n",
    "ax.set_title(\"y = x**3 + y**3 - 9xy + 27\")\n",
    "ax.contour3D(X, Y, Z, 30)\n",
    "ax.set_xlabel(\"x\")\n",
    "ax.set_ylabel(\"y\")\n",
    "ax.set_zlabel(\"z\")\n",
    "ax.scatter([local_min[0]], [local_min[1]], [f(local_min[0],local_min[1])], color=\"red\")\n",
    "label = \"Local min: ({0},{1})\".format(\n",
    "    round_local_min_pos[0], round_local_min_pos[1]\n",
    ")\n",
    "#ax.text(round_local_min_pos[0], round_local_min_pos[1], f(local_min), label, None)\n",
    "plt.show()"
   ]
  },
  {
   "cell_type": "code",
   "execution_count": null,
   "metadata": {
    "id": "UGxhjz6wDi_0"
   },
   "outputs": [],
   "source": [
    "# Initialize figure with subplots\n",
    "fig = make_subplots(rows=1, cols=1, specs=[[{'type': 'surface'}]])\n",
    "\n",
    "# Create a 3D surface plot with contours\n",
    "fig.add_trace(go.Surface(x=X, y=Y, z=Z, showscale=False,\n",
    "                         contours=dict(z=dict(color=\"limegreen\",\n",
    "                                              show=True,\n",
    "                                              highlight=True,\n",
    "                                              project=dict(x=True, y=True,z=True),\n",
    "                                              size=1,\n",
    "                                              start=0, end=30))),row=1, col=1)\n",
    "\n",
    "\n",
    "# Add scatter plot trace to the figure\n",
    "scatter_data = go.Scatter3d(x=history[:, 0],\n",
    "                            y=history[:, 1],\n",
    "                            z=f(history[:, 0],\n",
    "                                history[:, 1]),\n",
    "                            mode='lines+markers', \n",
    "                            marker=dict(symbol='x',\n",
    "                                        color='red'))\n",
    "\n",
    "fig.add_trace(scatter_data, row=1, col=1)\n",
    "\n",
    "\n",
    "# Define animation frames\n",
    "frames = []\n",
    "for i in range(len(history)):\n",
    "    frame_data = [go.Surface(x=X, y=Y, z=Z, contours=dict(z=dict(color=\"limegreen\",\n",
    "                                                                 show=True,\n",
    "                                                                 highlight=True,\n",
    "                                                                 project=dict(x=True,\n",
    "                                                                              y=True,\n",
    "                                                                              z=True),\n",
    "                                                                 size=50,\n",
    "                                                                 start=0, \n",
    "                                                                 end=1000))),\n",
    "                  \n",
    "                  go.Scatter3d(x=history[:i, 0],\n",
    "                               y=history[:i, 1],\n",
    "                               z=f(history[:i, 0],\n",
    "                                   history[:i, 1]),\n",
    "                               mode='lines+markers', \n",
    "                               marker=dict(symbol='circle',\n",
    "                                           color='white',\n",
    "                                           size=5))]\n",
    "\n",
    "    frame = go.Frame(data=frame_data, name=f'Frame {i}')\n",
    "    frames.append(frame)\n",
    "\n",
    "# Add frames to the animation\n",
    "fig.frames = frames\n",
    "\n",
    "# Create animation buttons\n",
    "animation_buttons = [\n",
    "    dict(label=\"Play\",\n",
    "         method=\"animate\",\n",
    "         args=[None, {\"frame\": {\"duration\": 500, \"redraw\": True}, \"fromcurrent\": True}]),\n",
    "    dict(label=\"Pause\",\n",
    "         method=\"animate\",\n",
    "         args=[[None], {\"frame\": {\"duration\": 0, \"redraw\": True}, \"mode\": \"immediate\",\n",
    "                        \"transition\": {\"duration\": 0}}])\n",
    "]\n",
    "\n",
    "# Update layout with animation settings\n",
    "fig.update_layout(updatemenus=[{\"buttons\": animation_buttons, \"type\": \"buttons\", \"showactive\": False}],\n",
    "                  title=\"Newton's Method Animation\")\n",
    "\n",
    "fig.update_layout(\n",
    "    autosize=False,\n",
    "    width=1000,\n",
    "    height=1000,\n",
    "    margin=dict(l=50, r=50, b=100, t=100, pad=4),\n",
    "    scene=dict(\n",
    "        xaxis_title=\"X Axis\",  # Set X-axis title\n",
    "        yaxis_title=\"Y Axis\",  # Set Y-axis title\n",
    "        zaxis_title=\"Z Axis\",  # Set Z-axis title\n",
    "    ),\n",
    "    showlegend=False,\n",
    "    template=\"plotly_dark\"\n",
    ")\n",
    "\n",
    "# Show the figure\n",
    "fig.show()"
   ]
  },
  {
   "cell_type": "code",
   "execution_count": null,
   "metadata": {},
   "outputs": [],
   "source": [
    "fig.write_html(\"NewtonSurface.html\")"
   ]
  },
  {
   "cell_type": "code",
   "execution_count": null,
   "metadata": {},
   "outputs": [],
   "source": [
    "fig = go.Figure(data =\n",
    "         go.Contour(\n",
    "           z= Z,\n",
    "           colorbar=dict(nticks=10, \n",
    "                         ticks='outside',\n",
    "                         ticklen=5, \n",
    "                         tickwidth=1,\n",
    "                         showticklabels=True,\n",
    "                         tickangle=0, \n",
    "                         tickfont_size=12)\n",
    "            ))\n",
    "\n",
    "fig.add_trace(go.Scatter(x=history[:, 0], \n",
    "                         y=history[:, 1], \n",
    "                         mode='markers+lines', \n",
    "                         name='Newton Method',\n",
    "                         marker=dict(color='white')))\n",
    "\n",
    "# Update layout to increase size\n",
    "fig.update_layout(\n",
    "    width=1000,  # Set the width of the figure\n",
    "    height=1000,  # Set the height of the figure\n",
    "    title='Contour Plot',  # Add a title to the plot\n",
    "    xaxis_title=\"X Axis\",  # Label the x-axis\n",
    "    yaxis_title=\"Y Axis\",  # Label the y-axis\n",
    "    template=\"plotly_dark\"  # Use a dark theme for the plot\n",
    ")\n",
    "\n",
    "\n",
    "fig.show()"
   ]
  },
  {
   "cell_type": "code",
   "execution_count": null,
   "metadata": {},
   "outputs": [],
   "source": [
    "fig.write_html(\"NewtonContour.html\")"
   ]
  }
 ],
 "metadata": {
  "colab": {
   "provenance": []
  },
  "kernelspec": {
   "display_name": "Python 3 (ipykernel)",
   "language": "python",
   "name": "python3"
  },
  "language_info": {
   "codemirror_mode": {
    "name": "ipython",
    "version": 3
   },
   "file_extension": ".py",
   "mimetype": "text/x-python",
   "name": "python",
   "nbconvert_exporter": "python",
   "pygments_lexer": "ipython3",
   "version": "3.9.18"
  }
 },
 "nbformat": 4,
 "nbformat_minor": 1
}
