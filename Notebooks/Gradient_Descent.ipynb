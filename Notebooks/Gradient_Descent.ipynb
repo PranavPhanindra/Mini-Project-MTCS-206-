{
 "cells": [
  {
   "cell_type": "markdown",
   "metadata": {
    "id": "TVliLq_ReyHL"
   },
   "source": [
    "# Imports"
   ]
  },
  {
   "cell_type": "code",
   "execution_count": null,
   "metadata": {
    "id": "SoCgiwYECOP7"
   },
   "outputs": [],
   "source": [
    "from plotly.subplots import make_subplots\n",
    "\n",
    "import plotly.graph_objects as go\n",
    "import numpy as np"
   ]
  },
  {
   "cell_type": "markdown",
   "metadata": {
    "id": "2jg7hFsRhbrm"
   },
   "source": [
    "# Function Declarations and Initialisations"
   ]
  },
  {
   "cell_type": "code",
   "execution_count": null,
   "metadata": {
    "id": "UbDdwzIPhauW"
   },
   "outputs": [],
   "source": [
    "def f(x, y):\n",
    "    return x**3 + y**3 - 9 * x * y + 27\n",
    "\n",
    "def grad_f(x, y):\n",
    "    return np.array([3*x**2-9*y,\n",
    "                     3*y**2-9*x])"
   ]
  },
  {
   "cell_type": "code",
   "execution_count": null,
   "metadata": {
    "id": "cn734DaAhqRq"
   },
   "outputs": [],
   "source": [
    "def gradient_descent(func, grad_func, initial_point, learning_rate=0.01, num_iterations=100):\n",
    "    \"\"\"\n",
    "    Gradient Descent Optimization Algorithm\n",
    "\n",
    "    Parameters:\n",
    "    - func: The objective function to minimize\n",
    "    - grad_func: The gradient of the objective function\n",
    "    - initial_point: Initial point for optimization\n",
    "    - learning_rate: Step size for gradient descent (default: 0.01)\n",
    "    - num_iterations: Number of iterations for optimization (default: 100)\n",
    "\n",
    "    Returns:\n",
    "    - optimal_point: Optimal point (minimum) found by gradient descent\n",
    "    - history: History of optimization (list of points visited during optimization)\n",
    "    \"\"\"\n",
    "\n",
    "    currentPoint = np.array(initial_point)\n",
    "    history = [currentPoint]\n",
    "\n",
    "    for _ in range(num_iterations):\n",
    "        gradient = grad_func(*currentPoint)\n",
    "        currentPoint = currentPoint - learning_rate * gradient\n",
    "        history.append(currentPoint)\n",
    "\n",
    "    optimal_point = history[-1]\n",
    "    return optimal_point, np.array(history)"
   ]
  },
  {
   "cell_type": "code",
   "execution_count": null,
   "metadata": {
    "id": "NcZvo5_ih0Pe"
   },
   "outputs": [],
   "source": [
    "# Choose a starting point for gradient descent\n",
    "start_point = (2.9, -0.9)"
   ]
  },
  {
   "cell_type": "markdown",
   "metadata": {
    "id": "x0mY8S1nh4Tx"
   },
   "source": [
    "# Perform Gradient Descent"
   ]
  },
  {
   "cell_type": "code",
   "execution_count": null,
   "metadata": {
    "id": "9pldMfb7h33S"
   },
   "outputs": [],
   "source": [
    "  # Perform gradient descent optimization\n",
    "optimal_point, history = gradient_descent(f, grad_f, start_point,learning_rate=0.01,num_iterations=100)"
   ]
  },
  {
   "cell_type": "markdown",
   "metadata": {
    "id": "ppvmhOXlja_t"
   },
   "source": [
    "# Plot"
   ]
  },
  {
   "cell_type": "code",
   "execution_count": null,
   "metadata": {
    "id": "u-PGPEd_jkYL"
   },
   "outputs": [],
   "source": [
    "# Generate data points\n",
    "x = np.linspace(-1*optimal_point[0]-2,optimal_point[0]+2, 100)\n",
    "y = np.linspace(-1*optimal_point[1]-2,optimal_point[1]+2, 100)\n",
    "contours = 10\n",
    "X, Y = np.meshgrid(x, y)\n",
    "Z = f(X, Y)"
   ]
  },
  {
   "cell_type": "code",
   "execution_count": null,
   "metadata": {
    "colab": {
     "base_uri": "https://localhost:8080/",
     "height": 1000
    },
    "id": "AQA1Dj-ciIEE",
    "outputId": "41172878-04ba-4974-fea9-7f6a005af95e"
   },
   "outputs": [],
   "source": [
    "# Create a 3D surface plot\n",
    "fig = go.Figure(data=[go.Scatter3d(x=history[:, 0],\n",
    "                                   y=history[:, 1],\n",
    "                                   z=f(history[:, 0],history[:, 1]),\n",
    "                                   mode='lines+markers',\n",
    "                                   marker = dict(symbol = 'circle',\n",
    "                                                 color = 'red',\n",
    "                                                 size = 5))])\n",
    "\n",
    "\n",
    "\n",
    "fig.add_trace(go.Surface(x=X,\n",
    "                         y=Y,\n",
    "                         z=Z,\n",
    "                         showscale=False,\n",
    "                         contours=dict(x = dict(show = False),\n",
    "                                       y = dict(show = False),\n",
    "                                       z=dict(color = \"limegreen\",\n",
    "                                              show=True,\n",
    "                                              highlight = True,\n",
    "                                               project=dict(x=True,\n",
    "                                                           y=True,\n",
    "                                                           z=True),\n",
    "                                              size = 1,\n",
    "                                              start = 0,\n",
    "                                              end = contours))))\n",
    "\n",
    "fig.update_layout(\n",
    "    autosize=False,\n",
    "    width=1000,\n",
    "    height=1000,\n",
    "    margin=dict(l=50, r=50, b=100, t=100, pad=4),\n",
    "    scene=dict(\n",
    "        xaxis_title=\"X Axis\",  # Set X-axis title\n",
    "        yaxis_title=\"Y Axis\",  # Set Y-axis title\n",
    "        zaxis_title=\"Z Axis\",  # Set Z-axis title\n",
    "    ),\n",
    "    showlegend =False,\n",
    "    template=\"plotly_dark\"\n",
    ")\n",
    "\n",
    "\n",
    "\n",
    "fig.show()"
   ]
  },
  {
   "cell_type": "markdown",
   "metadata": {
    "id": "jSUfOjA-loQk"
   },
   "source": [
    "# Animation"
   ]
  },
  {
   "cell_type": "code",
   "execution_count": null,
   "metadata": {
    "id": "oS96G7I4loFN"
   },
   "outputs": [],
   "source": [
    "# Initialize figure with subplots\n",
    "fig = make_subplots(rows=1, cols=1, specs=[[{'type': 'surface'}]])\n",
    "\n",
    "# Create a 3D surface plot with contours\n",
    "fig.add_trace(go.Surface(x=X, y=Y, z=Z, showscale=False,\n",
    "                         contours=dict(z=dict(color=\"limegreen\",\n",
    "                                              show=True,\n",
    "                                              highlight=True,\n",
    "                                              project=dict(x=True, y=True,z=True),\n",
    "                                              size=1,\n",
    "                                              start=0, end=30))),\n",
    "              row=1, col=1)\n",
    "\n",
    "\n",
    "# Initialize scatter plot data\n",
    "# Add scatter plot trace to the figure\n",
    "scatter_data = go.Scatter3d(x=[], y=[], z=[], mode='lines+markers', marker=dict(symbol='x', color='red'))\n",
    "fig.add_trace(scatter_data, row=1, col=1)\n",
    "\n",
    "# Define animation frames\n",
    "frames = []\n",
    "for i in range(len(history)):\n",
    "    frame_data = [go.Surface(x=X,\n",
    "                   y=Y,\n",
    "                   z=Z,\n",
    "                   contours=dict(z=dict(color=\"limegreen\",\n",
    "                                        show=True,\n",
    "                                        highlight=True,\n",
    "                                        project=dict(x=True, y=True,z=True),\n",
    "                                        size=1, start=0, end=30))),# Include the surface in each frame\n",
    "                  go.Scatter3d(x=history[:i, 0],\n",
    "                     y=history[:i, 1],\n",
    "                     z=f(history[:i, 0], history[:i, 1]),\n",
    "                     mode='lines+markers',\n",
    "                     marker = dict(symbol = 'circle',\n",
    "                                   color = 'white',\n",
    "                                   size = 5))]\n",
    "\n",
    "    frame = go.Frame(data=frame_data, name=f'Frame {i}')\n",
    "    frames.append(frame)\n",
    "\n",
    "# Add frames to the animation\n",
    "fig.frames = frames\n",
    "\n",
    "# Create animation buttons\n",
    "animation_buttons = [\n",
    "    dict(label=\"Play\",\n",
    "         method=\"animate\",\n",
    "         args=[None, {\"frame\": {\"duration\": 500, \"redraw\": True}, \"fromcurrent\": True}]),\n",
    "    dict(label=\"Pause\",\n",
    "         method=\"animate\",\n",
    "         args=[[None], {\"frame\": {\"duration\": 0, \"redraw\": True}, \"mode\": \"immediate\", \"transition\": {\"duration\": 0}}])\n",
    "]\n",
    "\n",
    "# Update layout with animation settings\n",
    "fig.update_layout(updatemenus=[{\"buttons\": animation_buttons, \"type\": \"buttons\", \"showactive\": False}],\n",
    "                  title=\"Gradient Descent Animation\")\n",
    "\n",
    "\n",
    "fig.update_layout(\n",
    "    autosize=False,\n",
    "    width=1000,\n",
    "    height=1000,\n",
    "    margin=dict(l=50, r=50, b=100, t=100, pad=4),\n",
    "    scene=dict(\n",
    "        xaxis_title=\"X Axis\",  # Set X-axis title\n",
    "        yaxis_title=\"Y Axis\",  # Set Y-axis title\n",
    "        zaxis_title=\"Z Axis\",  # Set Z-axis title\n",
    "    ),\n",
    "    showlegend =False,\n",
    "    template = \"plotly_dark\"\n",
    ")\n",
    "# Show the figure\n",
    "fig.show()\n"
   ]
  },
  {
   "cell_type": "code",
   "execution_count": null,
   "metadata": {},
   "outputs": [],
   "source": [
    "fig.write_html(\"GDSurface.html\")"
   ]
  },
  {
   "cell_type": "code",
   "execution_count": null,
   "metadata": {},
   "outputs": [],
   "source": [
    "def animate_gradient_descent(X, Y, Z, history, f,contours):\n",
    "    \"\"\"\n",
    "    Creates an animated gradient descent plot using Plotly.\n",
    "\n",
    "    Parameters:\n",
    "    - X, Y, Z: Arrays defining the 3D surface plot.\n",
    "    - history: Array containing the history of points visited during optimization.\n",
    "    - f: The objective function.\n",
    "\n",
    "    Returns:\n",
    "    - fig: Plotly figure object for the animated plot.\n",
    "    \"\"\"\n",
    "    # Initialize figure with subplots\n",
    "    fig = make_subplots(rows=1, cols=1, specs=[[{'type': 'surface'}]])\n",
    "\n",
    "    # Create a 3D surface plot with contours\n",
    "    fig.add_trace(go.Surface(x=X, y=Y, z=Z, showscale=False,\n",
    "                             contours=dict(z=dict(color=\"limegreen\",\n",
    "                                                  show=True,\n",
    "                                                  highlight=True,\n",
    "                                                  project=dict(x=True, y=True, z=True),\n",
    "                                                  size=1,\n",
    "                                                  start=0, end=30))),\n",
    "                  row=1, col=1)\n",
    "\n",
    "    # Initialize scatter plot data\n",
    "    # Add scatter plot trace to the figure\n",
    "    scatter_data = go.Scatter3d(x=[], y=[], z=[], mode='lines+markers', marker=dict(symbol='x', color='red'))\n",
    "    fig.add_trace(scatter_data, row=1, col=1)\n",
    "\n",
    "    # Define animation frames\n",
    "    frames = []\n",
    "    for i in range(len(history)):\n",
    "        frame_data = [\n",
    "            go.Surface(x=X,\n",
    "                       y=Y,\n",
    "                       z=Z,\n",
    "                       contours=dict(z=dict(color=\"limegreen\",\n",
    "                                            show=True,\n",
    "                                            highlight=True,\n",
    "                                            project=dict(x=True, y=True, z=True),\n",
    "                                            size=1, start=0, end=contours))),  # Include the surface in each frame\n",
    "            go.Scatter3d(x=history[:i, 0],\n",
    "                         y=history[:i, 1],\n",
    "                         z=f(history[:i, 0], history[:i, 1]),\n",
    "                         mode='lines+markers',\n",
    "                         marker=dict(symbol='circle', color='white', size=5))\n",
    "        ]\n",
    "        frame = go.Frame(data=frame_data, name=f'Frame {i}')\n",
    "        frames.append(frame)\n",
    "\n",
    "    # Add frames to the animation\n",
    "    fig.frames = frames\n",
    "\n",
    "    # Create animation buttons\n",
    "    animation_buttons = [\n",
    "        dict(label=\"Play\",\n",
    "             method=\"animate\",\n",
    "             args=[None, {\"frame\": {\"duration\": 500, \"redraw\": True}, \"fromcurrent\": True}]),\n",
    "        dict(label=\"Pause\",\n",
    "             method=\"animate\",\n",
    "             args=[[None], {\"frame\": {\"duration\": 0, \"redraw\": True}, \"mode\": \"immediate\",\n",
    "                            \"transition\": {\"duration\": 0}}])\n",
    "    ]\n",
    "\n",
    "    # Update layout with animation settings\n",
    "    fig.update_layout(updatemenus=[{\"buttons\": animation_buttons, \"type\": \"buttons\", \"showactive\": False}],\n",
    "                      title=\"Gradient Descent Animation\")\n",
    "\n",
    "    fig.update_layout(\n",
    "        autosize=False,\n",
    "        width=1000,\n",
    "        height=1000,\n",
    "        margin=dict(l=50, r=50, b=100, t=100, pad=4),\n",
    "        scene=dict(\n",
    "            xaxis_title=\"X Axis\",  # Set X-axis title\n",
    "            yaxis_title=\"Y Axis\",  # Set Y-axis title\n",
    "            zaxis_title=\"Z Axis\",  # Set Z-axis title\n",
    "        ),\n",
    "        showlegend=False,\n",
    "        template=\"plotly_dark\"\n",
    "    )\n",
    "    return fig"
   ]
  },
  {
   "cell_type": "code",
   "execution_count": null,
   "metadata": {},
   "outputs": [],
   "source": [
    "animateGD = animate_gradient_descent(X, Y, Z, history, f,contours)"
   ]
  },
  {
   "cell_type": "code",
   "execution_count": null,
   "metadata": {},
   "outputs": [],
   "source": [
    "animateGD.show()"
   ]
  },
  {
   "cell_type": "code",
   "execution_count": null,
   "metadata": {},
   "outputs": [],
   "source": [
    "#animateGD.write_html('animateGD.html')"
   ]
  },
  {
   "cell_type": "code",
   "execution_count": null,
   "metadata": {},
   "outputs": [],
   "source": [
    "fig = go.Figure(data =\n",
    "         go.Contour(\n",
    "           z= Z,\n",
    "           colorbar=dict(nticks=10, \n",
    "                         ticks='outside',\n",
    "                         ticklen=5, \n",
    "                         tickwidth=1,\n",
    "                         showticklabels=True,\n",
    "                         tickangle=0, \n",
    "                         tickfont_size=12)\n",
    "            ))\n",
    "\n",
    "fig.add_trace(go.Scatter(x=history[:, 0], \n",
    "                         y=history[:, 1], \n",
    "                         mode='markers+lines', \n",
    "                         name='Gradient Descent Method',\n",
    "                         marker=dict(color='white')))\n",
    "\n",
    "# Update layout to increase size\n",
    "fig.update_layout(\n",
    "    width=1000,  # Set the width of the figure\n",
    "    height=1000,  # Set the height of the figure\n",
    "    title='Contour Plot',  # Add a title to the plot\n",
    "    xaxis_title=\"X Axis\",  # Label the x-axis\n",
    "    yaxis_title=\"Y Axis\",  # Label the y-axis\n",
    "    template=\"plotly_dark\"  # Use a dark theme for the plot\n",
    ")\n",
    "\n",
    "\n",
    "fig.show()"
   ]
  },
  {
   "cell_type": "code",
   "execution_count": null,
   "metadata": {},
   "outputs": [],
   "source": [
    "fig.write_html(\"GDContour.html\")"
   ]
  },
  {
   "cell_type": "code",
   "execution_count": null,
   "metadata": {},
   "outputs": [],
   "source": []
  }
 ],
 "metadata": {
  "colab": {
   "provenance": []
  },
  "kernelspec": {
   "display_name": "Python 3 (ipykernel)",
   "language": "python",
   "name": "python3"
  },
  "language_info": {
   "codemirror_mode": {
    "name": "ipython",
    "version": 3
   },
   "file_extension": ".py",
   "mimetype": "text/x-python",
   "name": "python",
   "nbconvert_exporter": "python",
   "pygments_lexer": "ipython3",
   "version": "3.9.18"
  }
 },
 "nbformat": 4,
 "nbformat_minor": 1
}
