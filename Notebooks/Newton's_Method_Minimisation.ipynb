{
 "cells": [
  {
   "cell_type": "markdown",
   "metadata": {
    "id": "sYgBXpoTp8YY"
   },
   "source": [
    "# Imports"
   ]
  },
  {
   "cell_type": "code",
   "execution_count": null,
   "metadata": {
    "id": "c0edncHIDatM"
   },
   "outputs": [],
   "source": [
    "import numpy as np\n",
    "import pandas as pd\n",
    "import plotly.graph_objects as go"
   ]
  },
  {
   "cell_type": "markdown",
   "metadata": {
    "id": "4IPSOlLip_SG"
   },
   "source": [
    "# Newton's Method for Minimum"
   ]
  },
  {
   "cell_type": "code",
   "execution_count": null,
   "metadata": {
    "id": "YUlOnccEDi1a"
   },
   "outputs": [],
   "source": [
    "def newton(f,f_prime,f_double_prime,x_init,tol=0.1):\n",
    "    x_values = np.array([2])  # Initialize array to store x values\n",
    "    x_a = x_init\n",
    "    iterations_data = {'Iteration': [], 'x': [], 'f(x)': [], \"f'(x)\": []}  # Dictionary to store iteration data\n",
    "\n",
    "    while True:\n",
    "        fx = f(x_a)\n",
    "        dfx = f_prime(x_a)\n",
    "        df2x = f_double_prime(x_a)\n",
    "        x = x_a - dfx / df2x\n",
    "\n",
    "        # Add iteration data to the dictionary\n",
    "        iterations_data['Iteration'].append(len(iterations_data['Iteration']) + 1)\n",
    "        iterations_data['x'].append(x_a)\n",
    "        iterations_data['f(x)'].append(fx)\n",
    "        iterations_data[\"f'(x)\"].append(dfx)\n",
    "\n",
    "        if abs(x - x_a) < tol:\n",
    "            break\n",
    "\n",
    "        x_a = x\n",
    "        x_values = np.append(x_values, x_a)  # Append the new x value to the array\n",
    "\n",
    "    # Convert the dictionary to a DataFrame\n",
    "    df_iterations = pd.DataFrame(iterations_data)\n",
    "\n",
    "    return x, df_iterations"
   ]
  },
  {
   "cell_type": "markdown",
   "metadata": {
    "id": "h9vR7LqiqC9F"
   },
   "source": [
    "# Declarations and Initialisations"
   ]
  },
  {
   "cell_type": "code",
   "execution_count": null,
   "metadata": {
    "id": "UMWjEknPDloL"
   },
   "outputs": [],
   "source": [
    "x = np.linspace(0.45,0.8,1000)\n",
    "\n",
    "x_init = 0.5\n",
    "f = lambda x: 0.5*x**2 - np.sin(x)\n",
    "f_prime = lambda x: x-np.cos(x) # First derivative\n",
    "f_double_prime = lambda x: 1+np.sin(x)  # Second derivative"
   ]
  },
  {
   "cell_type": "code",
   "execution_count": null,
   "metadata": {
    "id": "wdqHDxP6Ezeb"
   },
   "outputs": [],
   "source": [
    "# Calculate y values for f(x), f'(x), and f''(x)\n",
    "y_f = f(x)\n",
    "y_f_prime = f_prime(x)\n",
    "y_f_double_prime = f_double_prime(x)"
   ]
  },
  {
   "cell_type": "code",
   "execution_count": null,
   "metadata": {
    "colab": {
     "base_uri": "https://localhost:8080/",
     "height": 144
    },
    "id": "AXcc2D0XDPBb",
    "outputId": "da6a4b1f-ee03-4d2d-d10d-e4b72d1d9c9d"
   },
   "outputs": [],
   "source": [
    "ans_x , df = newton(f,f_prime,f_double_prime,x_init=0.5,tol = 0.001)\n",
    "df"
   ]
  },
  {
   "cell_type": "markdown",
   "metadata": {
    "id": "FPq3tEcPqI74"
   },
   "source": [
    "# Animate Quadratic Approximation of Newton's Method"
   ]
  },
  {
   "cell_type": "code",
   "execution_count": null,
   "metadata": {
    "id": "HfSIHdtCeK75"
   },
   "outputs": [],
   "source": [
    "def animateNewtonQuad(x, f, f_prime, f_double_prime):\n",
    "    soln, df = newton(f, f_prime, f_double_prime,x_init=0.5,tol = 0.001)\n",
    "    y = f(x)\n",
    "\n",
    "    # Define quadratic approximation\n",
    "    q_x = lambda xk: f(xk) + f_prime(xk) * (x - xk) + 0.5 * f_double_prime(xk) * (x - xk)**2\n",
    "    fig = go.Figure()\n",
    "\n",
    "    functionCurve = go.Scatter(x=x, y=y, name='Function Curve', line=dict(color='white'))\n",
    "\n",
    "    frames = []\n",
    "\n",
    "    for i in range(len(df)):\n",
    "        fig.add_trace(functionCurve)\n",
    "\n",
    "        xk = df.loc[i, 'x']\n",
    "\n",
    "        qApprox = q_x(xk)\n",
    "        qApproxCurve = go.Scatter(x=x, y=qApprox, name='Quadratic Approximation', line=dict(color='blue'))\n",
    "\n",
    "        xk_point = go.Scatter(x=[xk], y=[f(xk)], mode='markers', name='Xk', marker=dict(color='cyan', size=8))\n",
    "        soln_point = go.Scatter(x=[soln], y=[f(soln)], mode='markers', name='Solution', marker=dict(color='red', size=10))\n",
    "\n",
    "\n",
    "        frames.append([qApproxCurve,xk_point,soln_point])\n",
    "        frames.append([functionCurve])\n",
    "\n",
    "    # Update the frames of the animation\n",
    "    fig.frames = [go.Frame(data=frame) for frame in frames]\n",
    "\n",
    "    # Update the layout\n",
    "    fig.update_layout(\n",
    "        width=800,\n",
    "        height=800,\n",
    "        title='Newton\\'s Method Animation',\n",
    "        xaxis_title='X',\n",
    "        yaxis_title='f(X)',\n",
    "        template='plotly_dark',\n",
    "        showlegend=False,\n",
    "        updatemenus=[\n",
    "            {\n",
    "                \"buttons\": [\n",
    "                    {\n",
    "                        \"args\": [None, {\"frame\": {\"duration\": 1000, \"redraw\": True},\n",
    "                                        \"fromcurrent\": True,\n",
    "                                        \"transition\": {\"duration\": 500, \"easing\": \"in-out\"}}],\n",
    "                        \"label\": \"Play\",\n",
    "                        \"method\": \"animate\"\n",
    "                    },\n",
    "                    {\n",
    "                        \"args\": [[None], {\"frame\": {\"duration\": 0, \"redraw\": True},\n",
    "                                          \"mode\": \"immediate\",\n",
    "                                          \"transition\": {\"duration\": 300}}],\n",
    "                        \"label\": \"Pause\",\n",
    "                        \"method\": \"animate\"\n",
    "                    }\n",
    "                ],\n",
    "\n",
    "                \"direction\": \"left\",\n",
    "                \"pad\": {\"r\": 10, \"t\": 10},\n",
    "                \"showactive\": False,\n",
    "                \"type\": \"buttons\",\n",
    "                \"x\": 0.1,\n",
    "                \"xanchor\": \"right\",\n",
    "                \"y\": -0.1,\n",
    "                \"yanchor\": \"bottom\"\n",
    "            }\n",
    "        ]\n",
    "    )\n",
    "\n",
    "    # Show the animation\n",
    "    return fig\n"
   ]
  },
  {
   "cell_type": "code",
   "execution_count": null,
   "metadata": {
    "colab": {
     "base_uri": "https://localhost:8080/",
     "height": 817
    },
    "id": "4KrrM98jhO2T",
    "outputId": "6a78091c-5dde-45b2-e4e7-dfea68421b37"
   },
   "outputs": [],
   "source": [
    "newtonAnimation  = animateNewtonQuad(x,f,f_prime,f_double_prime)\n",
    "newtonAnimation.show()"
   ]
  },
  {
   "cell_type": "code",
   "execution_count": null,
   "metadata": {
    "id": "7Ko6asSNoNWG"
   },
   "outputs": [],
   "source": [
    "newtonAnimation.write_html(\"NewtonQuad.html\")"
   ]
  },
  {
   "cell_type": "code",
   "execution_count": null,
   "metadata": {},
   "outputs": [],
   "source": []
  }
 ],
 "metadata": {
  "colab": {
   "provenance": []
  },
  "kernelspec": {
   "display_name": "Python 3 (ipykernel)",
   "language": "python",
   "name": "python3"
  },
  "language_info": {
   "codemirror_mode": {
    "name": "ipython",
    "version": 3
   },
   "file_extension": ".py",
   "mimetype": "text/x-python",
   "name": "python",
   "nbconvert_exporter": "python",
   "pygments_lexer": "ipython3",
   "version": "3.9.18"
  }
 },
 "nbformat": 4,
 "nbformat_minor": 1
}
