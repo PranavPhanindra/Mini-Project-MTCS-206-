{
 "cells": [
  {
   "cell_type": "markdown",
   "metadata": {
    "id": "UxK5GpwUC-Lu"
   },
   "source": [
    "# Root Finding"
   ]
  },
  {
   "cell_type": "code",
   "execution_count": null,
   "metadata": {
    "id": "ps7p8TJ6m_Un"
   },
   "outputs": [],
   "source": [
    "import plotly.graph_objects as go\n",
    "import numpy as np\n",
    "import pandas as pd"
   ]
  },
  {
   "cell_type": "code",
   "execution_count": null,
   "metadata": {
    "id": "6OhMCm5WnBNv"
   },
   "outputs": [],
   "source": [
    "# Define the function for which you want to visualize Newton's method iterations\n",
    "def func(x):\n",
    "    return x**2 - 4*x + 4  # Example function: f(x) = x^2 - 4x + 4\n",
    "\n",
    "# Define the derivative of the function\n",
    "def func_derivative(x):\n",
    "    return 2*x - 4  # Derivative of the example function: f'(x) = 2x - 4"
   ]
  },
  {
   "cell_type": "code",
   "execution_count": null,
   "metadata": {
    "id": "zQZGX93RnDql"
   },
   "outputs": [],
   "source": [
    "# Newton's method implementation\n",
    "def newton_method(func, func_derivative, x0, tol=1e-5, max_iterations=50):\n",
    "    # Initialize lists to store iteration data\n",
    "    iterations = []\n",
    "    x_values = []\n",
    "    y_values = []\n",
    "    tangent_slopes = []  # Store the slopes of the tangent\n",
    "\n",
    "    # Initialize iteration counter and x_n value\n",
    "    iteration = 0\n",
    "    x_n = x0\n",
    "\n",
    "    while iteration < max_iterations:\n",
    "        y_n = func(x_n)\n",
    "        dy_dx = func_derivative(x_n)\n",
    "        x_next = x_n - y_n / dy_dx\n",
    "\n",
    "        # Record iteration data\n",
    "        iterations.append(iteration + 1)\n",
    "        x_values.append(x_n)\n",
    "        y_values.append(y_n)\n",
    "\n",
    "        # Calculate the slope of the tangent\n",
    "        slope = dy_dx\n",
    "        tangent_slopes.append(slope)\n",
    "\n",
    "        # Check for convergence\n",
    "        if abs(x_next - x_n) < tol:\n",
    "            break\n",
    "\n",
    "        x_n = x_next\n",
    "        iteration += 1\n",
    "\n",
    "    # Create a DataFrame to store iteration data\n",
    "    df = pd.DataFrame({'Iteration': iterations, 'X': x_values, 'Y': y_values, 'Tangent Slope': tangent_slopes})\n",
    "\n",
    "    return df"
   ]
  },
  {
   "cell_type": "code",
   "execution_count": null,
   "metadata": {
    "colab": {
     "base_uri": "https://localhost:8080/",
     "height": 582
    },
    "id": "_MqeaAq8nIZM",
    "outputId": "7753b7ac-6d50-413f-d4a8-03762ecbf30f"
   },
   "outputs": [],
   "source": [
    "x0 = 10\n",
    "tol = 1e-4\n",
    "\n",
    "# Example usage\n",
    "df_iterations = newton_method(func, func_derivative, x0=x0 , tol = tol)\n",
    "\n",
    "# Generate x and y values for the function plot\n",
    "x_vals_func = np.linspace(df_iterations['X'].min() - 1, df_iterations['X'].max() + 1, 100)\n",
    "y_vals_func = func(x_vals_func)\n",
    "\n",
    "df_iterations"
   ]
  },
  {
   "cell_type": "code",
   "execution_count": null,
   "metadata": {
    "id": "mRv-BoUxC4Ew"
   },
   "outputs": [],
   "source": [
    "# Create the animated scatter plot using Plotly Graph Objects for Newton's method iterations\n",
    "fig = go.Figure()\n",
    "\n",
    "# Add the function curve (place it outside the loop)\n",
    "function_curve = go.Scatter(x=x_vals_func, y=y_vals_func, name='Function Curve', line=dict(color='white'))"
   ]
  },
  {
   "cell_type": "code",
   "execution_count": null,
   "metadata": {
    "colab": {
     "base_uri": "https://localhost:8080/",
     "height": 817
    },
    "id": "M3LBpeFijOb6",
    "outputId": "8992e9ae-2b11-4eb9-c30c-d3ff413f4c21"
   },
   "outputs": [],
   "source": [
    "# Add tangent lines and parallel lines as frames to the animation\n",
    "frames = []\n",
    "for i in range(len(df_iterations)):\n",
    "\n",
    "    fig.add_trace(function_curve)\n",
    "\n",
    "    x_point = df_iterations.loc[i, 'X']\n",
    "    slope = df_iterations.loc[i, 'Tangent Slope']\n",
    "\n",
    "    # Tangent line (solid)\n",
    "    tangent_y = slope * (x_vals_func - x_point) + func(x_point)\n",
    "    tangent_line = go.Scatter(x=x_vals_func, y=tangent_y, name=f'Tangent at x={x_point}', line=dict(color='red', dash='dash'))\n",
    "\n",
    "    # Parallel line to y-axis (dashed)\n",
    "    parallel_y = func(x_point) - x_point * slope  # Calculate y = f(x) - mx\n",
    "    parallel_line = go.Scatter(x=[x_point, x_point], y=[func(x_point), parallel_y], name='Parallel Line', line=dict(color='green', dash='dash'))\n",
    "\n",
    "    # Append both lines to the data list of the frame\n",
    "    frames.append([parallel_line])\n",
    "    frames.append([tangent_line])\n",
    "\n",
    "\n",
    "\n",
    "\n",
    "# Update the frames of the animation\n",
    "fig.frames = [go.Frame(data=frame) for frame in frames]\n",
    "\n",
    "\"\"\"slider_steps = [{'args': [[f'Iteration {i + 1}']], 'label': f'Iteration {i + 1}', 'method': 'animate'} for i in range(len(df_iterations))]\n",
    "\n",
    "sliders=[{\n",
    "        'active': 0,\n",
    "        'steps': slider_steps,\n",
    "        'currentvalue': {'visible': True, 'prefix': 'Iteration: '},\n",
    "        'transition': {'duration': 300, 'easing': 'linear'},\n",
    "        'pad': {'t': 50, 'r': 10, 'b': 10, 'l': 10}\n",
    "    }]\"\"\"\n",
    "\n",
    "# Update the layout\n",
    "fig.update_layout(\n",
    "    width = 800,\n",
    "    height = 800,\n",
    "    title='Newton\\'s Method Animation',\n",
    "    xaxis_title='X',\n",
    "    yaxis_title='f(X)',\n",
    "    template='plotly_dark',\n",
    "    showlegend=False,\n",
    "    updatemenus=[\n",
    "        {\n",
    "            \"buttons\": [\n",
    "                {\n",
    "                    \"args\": [None, {\"frame\": {\"duration\": 3500, \"redraw\": True},\n",
    "                                    \"fromcurrent\": True,\n",
    "                                    \"transition\": {\"duration\": 500, \"easing\": \"in-out\"}}],\n",
    "                    \"label\": \"Play\",\n",
    "                    \"method\": \"animate\"\n",
    "                },\n",
    "                {\n",
    "                    \"args\": [[None], {\"frame\": {\"duration\": 0, \"redraw\": True},\n",
    "                                      \"mode\": \"immediate\",\n",
    "                                      \"transition\": {\"duration\": 300}}],\n",
    "                    \"label\": \"Pause\",\n",
    "                    \"method\": \"animate\"\n",
    "                }\n",
    "            ],\n",
    "\n",
    "            \"direction\": \"left\",\n",
    "            \"pad\": {\"r\": 10, \"t\": 10},\n",
    "            \"showactive\": False,\n",
    "            \"type\": \"buttons\",\n",
    "            \"x\": 0.1,\n",
    "            \"xanchor\": \"right\",\n",
    "            \"y\": -0.1,\n",
    "            \"yanchor\": \"bottom\"\n",
    "        }\n",
    "    ]\n",
    ")\n",
    "\n",
    "\n",
    "# Show the animation\n",
    "fig.show()\n"
   ]
  },
  {
   "cell_type": "code",
   "execution_count": null,
   "metadata": {},
   "outputs": [],
   "source": [
    "fig.write_html(\"NewtonRoot.html\")"
   ]
  },
  {
   "cell_type": "code",
   "execution_count": null,
   "metadata": {
    "colab": {
     "base_uri": "https://localhost:8080/",
     "height": 817
    },
    "id": "-Q5MgWv6F2fK",
    "outputId": "43238da1-c37a-42bc-9d7d-7bd2a9bbf43b"
   },
   "outputs": [],
   "source": [
    "def plot_newton_animation(func, func_derivative, x0, iterations, tol=1e-5):\n",
    "    df_iterations = newton_method(func, func_derivative, x0=x0, tol=tol, max_iterations=iterations)\n",
    "\n",
    "    # Generate x and y values for the function plot\n",
    "    x_vals_func = np.linspace(df_iterations['X'].min() - 1, df_iterations['X'].max() + 1, 100)\n",
    "    y_vals_func = func(x_vals_func)\n",
    "\n",
    "    # Create the animated scatter plot using Plotly Graph Objects for Newton's method iterations\n",
    "    fig = go.Figure()\n",
    "\n",
    "    # Add the function curve (place it outside the loop)\n",
    "    function_curve = go.Scatter(x=x_vals_func, y=y_vals_func, name='Function Curve', line=dict(color='white'))\n",
    "\n",
    "    # Add tangent lines and parallel lines as frames to the animation\n",
    "    frames = []\n",
    "    for i in range(len(df_iterations)):\n",
    "        fig.add_trace(function_curve)\n",
    "\n",
    "        x_point = df_iterations.loc[i, 'X']\n",
    "        slope = df_iterations.loc[i, 'Tangent Slope']\n",
    "\n",
    "        # Tangent line (solid)\n",
    "        tangent_y = slope * (x_vals_func - x_point) + func(x_point)\n",
    "        tangent_line = go.Scatter(x=x_vals_func, y=tangent_y, name=f'Tangent at x={x_point}', line=dict(color='red', dash='dash'))\n",
    "\n",
    "        # Parallel line to y-axis (dashed)\n",
    "        parallel_y = func(x_point) - x_point * slope  # Calculate y = f(x) - mx\n",
    "        parallel_line = go.Scatter(x=[x_point, x_point], y=[func(x_point), parallel_y], name='Parallel Line', line=dict(color='green', dash='dash'))\n",
    "\n",
    "        # Append both lines to the data list of the frame\n",
    "        frames.append([parallel_line])\n",
    "        frames.append([tangent_line])\n",
    "\n",
    "\n",
    "    # Update the frames of the animation\n",
    "    fig.frames = [go.Frame(data=frame) for frame in frames]\n",
    "\n",
    "    # Update the layout\n",
    "    fig.update_layout(\n",
    "        width=800,\n",
    "        height=800,\n",
    "        title='Newton\\'s Method Animation',\n",
    "        xaxis_title='X',\n",
    "        yaxis_title='f(X)',\n",
    "        template='plotly_dark',\n",
    "        showlegend=False,\n",
    "        updatemenus=[\n",
    "            {\n",
    "                \"buttons\": [\n",
    "                    {\n",
    "                        \"args\": [None, {\"frame\": {\"duration\": 3500, \"redraw\": True},\n",
    "                                        \"fromcurrent\": True,\n",
    "                                        \"transition\": {\"duration\": 500, \"easing\": \"in-out\"}}],\n",
    "                        \"label\": \"Play\",\n",
    "                        \"method\": \"animate\"\n",
    "                    },\n",
    "                    {\n",
    "                        \"args\": [[None], {\"frame\": {\"duration\": 0, \"redraw\": True},\n",
    "                                          \"mode\": \"immediate\",\n",
    "                                          \"transition\": {\"duration\": 300}}],\n",
    "                        \"label\": \"Pause\",\n",
    "                        \"method\": \"animate\"\n",
    "                    }\n",
    "                ],\n",
    "\n",
    "                \"direction\": \"left\",\n",
    "                \"pad\": {\"r\": 10, \"t\": 10},\n",
    "                \"showactive\": False,\n",
    "                \"type\": \"buttons\",\n",
    "                \"x\": 0.1,\n",
    "                \"xanchor\": \"right\",\n",
    "                \"y\": -0.1,\n",
    "                \"yanchor\": \"bottom\"\n",
    "            }\n",
    "        ]\n",
    "    )\n",
    "\n",
    "    # Show the animation\n",
    "    fig.show()\n",
    "\n",
    "# Example usage\n",
    "def func(x):\n",
    "    return x**2\n",
    "\n",
    "def func_derivative(x):\n",
    "    return 2*x\n",
    "\n",
    "x0 = 10\n",
    "tol = 1e-4\n",
    "iterations = 10\n",
    "\n",
    "plot_newton_animation(func, func_derivative, x0, iterations, tol)\n"
   ]
  },
  {
   "cell_type": "code",
   "execution_count": null,
   "metadata": {
    "id": "GyXB8r3zImy1"
   },
   "outputs": [],
   "source": []
  }
 ],
 "metadata": {
  "colab": {
   "provenance": []
  },
  "kernelspec": {
   "display_name": "Python 3 (ipykernel)",
   "language": "python",
   "name": "python3"
  },
  "language_info": {
   "codemirror_mode": {
    "name": "ipython",
    "version": 3
   },
   "file_extension": ".py",
   "mimetype": "text/x-python",
   "name": "python",
   "nbconvert_exporter": "python",
   "pygments_lexer": "ipython3",
   "version": "3.9.18"
  }
 },
 "nbformat": 4,
 "nbformat_minor": 1
}
